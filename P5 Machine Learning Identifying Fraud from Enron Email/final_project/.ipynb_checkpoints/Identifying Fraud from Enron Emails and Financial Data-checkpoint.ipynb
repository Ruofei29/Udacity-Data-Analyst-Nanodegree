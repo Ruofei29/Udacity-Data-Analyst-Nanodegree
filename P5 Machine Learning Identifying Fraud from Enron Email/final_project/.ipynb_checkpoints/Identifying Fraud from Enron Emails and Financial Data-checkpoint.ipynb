{
 "cells": [
  {
   "cell_type": "markdown",
   "metadata": {},
   "source": [
    "#  Identifying Fraud from Enron Emails and Financial Data"
   ]
  },
  {
   "cell_type": "markdown",
   "metadata": {},
   "source": [
    "## Project Overview"
   ]
  },
  {
   "cell_type": "markdown",
   "metadata": {},
   "source": [
    "In 2000, Enron was one of the largest companies in the United States. By 2002, it had collapsed into bankruptcy due to widespread corporate fraud. In the resulting Federal investigation, a significant amount of typically confidential information entered into the public record, including tens of thousands of emails and detailed financial data for top executives. In this project, you will play detective, and put your new skills to use by building a person of interest identifier based on financial and email data made public as a result of the Enron scandal. To assist you in your detective work, we've combined this data with a hand-generated list of persons of interest in the fraud case, which means individuals who were indicted, reached a settlement or plea deal with the government, or testified in exchange for prosecution immunity."
   ]
  },
  {
   "cell_type": "markdown",
   "metadata": {},
   "source": [
    "## Data Exploration and Outlier Investigation"
   ]
  },
  {
   "cell_type": "code",
   "execution_count": 37,
   "metadata": {
    "collapsed": false
   },
   "outputs": [],
   "source": [
    "import sys\n",
    "import pickle\n",
    "sys.path.append(\"../tools/\")\n",
    "\n",
    "from feature_format import featureFormat, targetFeatureSplit\n",
    "from tester import dump_classifier_and_data\n",
    "\n",
    "import numpy as np\n",
    "import pandas as pd\n",
    "\n",
    "import matplotlib.pyplot as plt\n",
    "%matplotlib inline\n"
   ]
  },
  {
   "cell_type": "code",
   "execution_count": 3,
   "metadata": {
    "collapsed": true
   },
   "outputs": [],
   "source": [
    "### Load the dictionary containing the dataset\n",
    "with open(\"final_project_dataset.pkl\", \"r\") as data_file:\n",
    "    data_dict = pickle.load(data_file)"
   ]
  },
  {
   "cell_type": "code",
   "execution_count": 4,
   "metadata": {
    "collapsed": true
   },
   "outputs": [],
   "source": [
    "df = pd.DataFrame.from_dict(data_dict, orient='index')\n",
    "df = df.replace('NaN', np.nan)"
   ]
  },
  {
   "cell_type": "code",
   "execution_count": 4,
   "metadata": {
    "collapsed": false
   },
   "outputs": [
    {
     "data": {
      "text/plain": [
       "146"
      ]
     },
     "execution_count": 4,
     "metadata": {},
     "output_type": "execute_result"
    }
   ],
   "source": [
    "df['poi'].count()"
   ]
  },
  {
   "cell_type": "markdown",
   "metadata": {},
   "source": [
    "There are 146 records in total."
   ]
  },
  {
   "cell_type": "code",
   "execution_count": 5,
   "metadata": {
    "collapsed": false
   },
   "outputs": [
    {
     "data": {
      "text/plain": [
       "18"
      ]
     },
     "execution_count": 5,
     "metadata": {},
     "output_type": "execute_result"
    }
   ],
   "source": [
    "df.loc[df.poi == True, 'poi'].count()"
   ]
  },
  {
   "cell_type": "markdown",
   "metadata": {},
   "source": [
    "Within 146 records, there are 18 POIs."
   ]
  },
  {
   "cell_type": "code",
   "execution_count": 6,
   "metadata": {
    "collapsed": false
   },
   "outputs": [
    {
     "data": {
      "text/plain": [
       "0.140625"
      ]
     },
     "execution_count": 6,
     "metadata": {},
     "output_type": "execute_result"
    }
   ],
   "source": [
    "float(18)/(146-18)"
   ]
  },
  {
   "cell_type": "code",
   "execution_count": 7,
   "metadata": {
    "collapsed": false
   },
   "outputs": [
    {
     "data": {
      "text/plain": [
       "21"
      ]
     },
     "execution_count": 7,
     "metadata": {},
     "output_type": "execute_result"
    }
   ],
   "source": [
    "len(df.columns)"
   ]
  },
  {
   "cell_type": "markdown",
   "metadata": {},
   "source": [
    "There are 146 peole in the dataset with 18 person of interest. The allocation across classes is 0.14. The # of features of each person are 21. "
   ]
  },
  {
   "cell_type": "code",
   "execution_count": 8,
   "metadata": {
    "collapsed": false
   },
   "outputs": [
    {
     "name": "stdout",
     "output_type": "stream",
     "text": [
      "<class 'pandas.core.frame.DataFrame'>\n",
      "Index: 146 entries, ALLEN PHILLIP K to YEAP SOON\n",
      "Data columns (total 21 columns):\n",
      "salary                       95 non-null float64\n",
      "to_messages                  86 non-null float64\n",
      "deferral_payments            39 non-null float64\n",
      "total_payments               125 non-null float64\n",
      "exercised_stock_options      102 non-null float64\n",
      "bonus                        82 non-null float64\n",
      "restricted_stock             110 non-null float64\n",
      "shared_receipt_with_poi      86 non-null float64\n",
      "restricted_stock_deferred    18 non-null float64\n",
      "total_stock_value            126 non-null float64\n",
      "expenses                     95 non-null float64\n",
      "loan_advances                4 non-null float64\n",
      "from_messages                86 non-null float64\n",
      "other                        93 non-null float64\n",
      "from_this_person_to_poi      86 non-null float64\n",
      "poi                          146 non-null bool\n",
      "director_fees                17 non-null float64\n",
      "deferred_income              49 non-null float64\n",
      "long_term_incentive          66 non-null float64\n",
      "email_address                111 non-null object\n",
      "from_poi_to_this_person      86 non-null float64\n",
      "dtypes: bool(1), float64(19), object(1)\n",
      "memory usage: 24.1+ KB\n"
     ]
    }
   ],
   "source": [
    "df.info()"
   ]
  },
  {
   "cell_type": "markdown",
   "metadata": {},
   "source": [
    "As you can see from info, there are many null values in the table."
   ]
  },
  {
   "cell_type": "code",
   "execution_count": 9,
   "metadata": {
    "collapsed": false
   },
   "outputs": [
    {
     "data": {
      "text/plain": [
       "<matplotlib.collections.PathCollection at 0xbbfed30>"
      ]
     },
     "execution_count": 9,
     "metadata": {},
     "output_type": "execute_result"
    },
    {
     "data": {
      "image/png": "[encoded data removed]",
      "text/plain": [
       "<matplotlib.figure.Figure at 0xbba35c0>"
      ]
     },
     "metadata": {},
     "output_type": "display_data"
    }
   ],
   "source": [
    "plt.scatter(df.total_payments,df.total_stock_value)"
   ]
  },
  {
   "cell_type": "code",
   "execution_count": 10,
   "metadata": {
    "collapsed": false
   },
   "outputs": [
    {
     "data": {
      "text/plain": [
       "<matplotlib.collections.PathCollection at 0xbf82a20>"
      ]
     },
     "execution_count": 10,
     "metadata": {},
     "output_type": "execute_result"
    },
    {
     "data": {
      "image/png": "[encoded data removed]",
      "text/plain": [
       "<matplotlib.figure.Figure at 0xbd9f390>"
      ]
     },
     "metadata": {},
     "output_type": "display_data"
    }
   ],
   "source": [
    "plt.scatter(df.exercised_stock_options,df.expenses)"
   ]
  },
  {
   "cell_type": "markdown",
   "metadata": {},
   "source": [
    "I selected 4 numeric features with less nulls to do the scatter plot. As we could see in the plot, there is one outlier. Let's see what it is."
   ]
  },
  {
   "cell_type": "code",
   "execution_count": 11,
   "metadata": {
    "collapsed": false
   },
   "outputs": [
    {
     "data": {
      "text/html": [
       "<div>\n",
       "<table border=\"1\" class=\"dataframe\">\n",
       "  <thead>\n",
       "    <tr style=\"text-align: right;\">\n",
       "      <th></th>\n",
       "      <th>salary</th>\n",
       "      <th>to_messages</th>\n",
       "      <th>deferral_payments</th>\n",
       "      <th>total_payments</th>\n",
       "      <th>exercised_stock_options</th>\n",
       "      <th>bonus</th>\n",
       "      <th>restricted_stock</th>\n",
       "      <th>shared_receipt_with_poi</th>\n",
       "      <th>restricted_stock_deferred</th>\n",
       "      <th>total_stock_value</th>\n",
       "      <th>...</th>\n",
       "      <th>loan_advances</th>\n",
       "      <th>from_messages</th>\n",
       "      <th>other</th>\n",
       "      <th>from_this_person_to_poi</th>\n",
       "      <th>poi</th>\n",
       "      <th>director_fees</th>\n",
       "      <th>deferred_income</th>\n",
       "      <th>long_term_incentive</th>\n",
       "      <th>email_address</th>\n",
       "      <th>from_poi_to_this_person</th>\n",
       "    </tr>\n",
       "  </thead>\n",
       "  <tbody>\n",
       "    <tr>\n",
       "      <th>TOTAL</th>\n",
       "      <td>26704229.0</td>\n",
       "      <td>NaN</td>\n",
       "      <td>32083396.0</td>\n",
       "      <td>309886585.0</td>\n",
       "      <td>311764000.0</td>\n",
       "      <td>97343619.0</td>\n",
       "      <td>130322299.0</td>\n",
       "      <td>NaN</td>\n",
       "      <td>-7576788.0</td>\n",
       "      <td>434509511.0</td>\n",
       "      <td>...</td>\n",
       "      <td>83925000.0</td>\n",
       "      <td>NaN</td>\n",
       "      <td>42667589.0</td>\n",
       "      <td>NaN</td>\n",
       "      <td>False</td>\n",
       "      <td>1398517.0</td>\n",
       "      <td>-27992891.0</td>\n",
       "      <td>48521928.0</td>\n",
       "      <td>NaN</td>\n",
       "      <td>NaN</td>\n",
       "    </tr>\n",
       "  </tbody>\n",
       "</table>\n",
       "<p>1 rows × 21 columns</p>\n",
       "</div>"
      ],
      "text/plain": [
       "           salary  to_messages  deferral_payments  total_payments  \\\n",
       "TOTAL  26704229.0          NaN         32083396.0     309886585.0   \n",
       "\n",
       "       exercised_stock_options       bonus  restricted_stock  \\\n",
       "TOTAL              311764000.0  97343619.0       130322299.0   \n",
       "\n",
       "       shared_receipt_with_poi  restricted_stock_deferred  total_stock_value  \\\n",
       "TOTAL                      NaN                 -7576788.0        434509511.0   \n",
       "\n",
       "                ...            loan_advances  from_messages       other  \\\n",
       "TOTAL           ...               83925000.0            NaN  42667589.0   \n",
       "\n",
       "       from_this_person_to_poi    poi director_fees  deferred_income  \\\n",
       "TOTAL                      NaN  False     1398517.0      -27992891.0   \n",
       "\n",
       "       long_term_incentive  email_address from_poi_to_this_person  \n",
       "TOTAL           48521928.0            NaN                     NaN  \n",
       "\n",
       "[1 rows x 21 columns]"
      ]
     },
     "execution_count": 11,
     "metadata": {},
     "output_type": "execute_result"
    }
   ],
   "source": [
    "df[df.total_payments > 3.0e8]"
   ]
  },
  {
   "cell_type": "code",
   "execution_count": 12,
   "metadata": {
    "collapsed": false
   },
   "outputs": [
    {
     "data": {
      "text/html": [
       "<div>\n",
       "<table border=\"1\" class=\"dataframe\">\n",
       "  <thead>\n",
       "    <tr style=\"text-align: right;\">\n",
       "      <th></th>\n",
       "      <th>salary</th>\n",
       "      <th>to_messages</th>\n",
       "      <th>deferral_payments</th>\n",
       "      <th>total_payments</th>\n",
       "      <th>exercised_stock_options</th>\n",
       "      <th>bonus</th>\n",
       "      <th>restricted_stock</th>\n",
       "      <th>shared_receipt_with_poi</th>\n",
       "      <th>restricted_stock_deferred</th>\n",
       "      <th>total_stock_value</th>\n",
       "      <th>...</th>\n",
       "      <th>loan_advances</th>\n",
       "      <th>from_messages</th>\n",
       "      <th>other</th>\n",
       "      <th>from_this_person_to_poi</th>\n",
       "      <th>poi</th>\n",
       "      <th>director_fees</th>\n",
       "      <th>deferred_income</th>\n",
       "      <th>long_term_incentive</th>\n",
       "      <th>email_address</th>\n",
       "      <th>from_poi_to_this_person</th>\n",
       "    </tr>\n",
       "  </thead>\n",
       "  <tbody>\n",
       "    <tr>\n",
       "      <th>TOTAL</th>\n",
       "      <td>26704229.0</td>\n",
       "      <td>NaN</td>\n",
       "      <td>32083396.0</td>\n",
       "      <td>309886585.0</td>\n",
       "      <td>311764000.0</td>\n",
       "      <td>97343619.0</td>\n",
       "      <td>130322299.0</td>\n",
       "      <td>NaN</td>\n",
       "      <td>-7576788.0</td>\n",
       "      <td>434509511.0</td>\n",
       "      <td>...</td>\n",
       "      <td>83925000.0</td>\n",
       "      <td>NaN</td>\n",
       "      <td>42667589.0</td>\n",
       "      <td>NaN</td>\n",
       "      <td>False</td>\n",
       "      <td>1398517.0</td>\n",
       "      <td>-27992891.0</td>\n",
       "      <td>48521928.0</td>\n",
       "      <td>NaN</td>\n",
       "      <td>NaN</td>\n",
       "    </tr>\n",
       "  </tbody>\n",
       "</table>\n",
       "<p>1 rows × 21 columns</p>\n",
       "</div>"
      ],
      "text/plain": [
       "           salary  to_messages  deferral_payments  total_payments  \\\n",
       "TOTAL  26704229.0          NaN         32083396.0     309886585.0   \n",
       "\n",
       "       exercised_stock_options       bonus  restricted_stock  \\\n",
       "TOTAL              311764000.0  97343619.0       130322299.0   \n",
       "\n",
       "       shared_receipt_with_poi  restricted_stock_deferred  total_stock_value  \\\n",
       "TOTAL                      NaN                 -7576788.0        434509511.0   \n",
       "\n",
       "                ...            loan_advances  from_messages       other  \\\n",
       "TOTAL           ...               83925000.0            NaN  42667589.0   \n",
       "\n",
       "       from_this_person_to_poi    poi director_fees  deferred_income  \\\n",
       "TOTAL                      NaN  False     1398517.0      -27992891.0   \n",
       "\n",
       "       long_term_incentive  email_address from_poi_to_this_person  \n",
       "TOTAL           48521928.0            NaN                     NaN  \n",
       "\n",
       "[1 rows x 21 columns]"
      ]
     },
     "execution_count": 12,
     "metadata": {},
     "output_type": "execute_result"
    }
   ],
   "source": [
    "df[df.exercised_stock_options > 3.0e8]"
   ]
  },
  {
   "cell_type": "markdown",
   "metadata": {},
   "source": [
    "As we can see in the result, the outlier is \"Total\" records within this 146 records. This is a very common mistake when prepared the dataset. So I'm going to remove it."
   ]
  },
  {
   "cell_type": "code",
   "execution_count": 6,
   "metadata": {
    "collapsed": false
   },
   "outputs": [],
   "source": [
    "# Delete \"Total\" row\n",
    "df = df.drop(['TOTAL'])"
   ]
  },
  {
   "cell_type": "code",
   "execution_count": 7,
   "metadata": {
    "collapsed": false
   },
   "outputs": [
    {
     "name": "stdout",
     "output_type": "stream",
     "text": [
      "<class 'pandas.core.frame.DataFrame'>\n",
      "Index: 145 entries, ALLEN PHILLIP K to YEAP SOON\n",
      "Data columns (total 21 columns):\n",
      "salary                       94 non-null float64\n",
      "to_messages                  86 non-null float64\n",
      "deferral_payments            38 non-null float64\n",
      "total_payments               124 non-null float64\n",
      "exercised_stock_options      101 non-null float64\n",
      "bonus                        81 non-null float64\n",
      "restricted_stock             109 non-null float64\n",
      "shared_receipt_with_poi      86 non-null float64\n",
      "restricted_stock_deferred    17 non-null float64\n",
      "total_stock_value            125 non-null float64\n",
      "expenses                     94 non-null float64\n",
      "loan_advances                3 non-null float64\n",
      "from_messages                86 non-null float64\n",
      "other                        92 non-null float64\n",
      "from_this_person_to_poi      86 non-null float64\n",
      "poi                          145 non-null bool\n",
      "director_fees                16 non-null float64\n",
      "deferred_income              48 non-null float64\n",
      "long_term_incentive          65 non-null float64\n",
      "email_address                111 non-null object\n",
      "from_poi_to_this_person      86 non-null float64\n",
      "dtypes: bool(1), float64(19), object(1)\n",
      "memory usage: 23.9+ KB\n"
     ]
    }
   ],
   "source": [
    "df.info()"
   ]
  },
  {
   "cell_type": "markdown",
   "metadata": {},
   "source": [
    "Now we can see only 145 records in the dataset. I still need to fill Nulls since I don't want to drop those rows. It will result in lots of informatino loss. I will simply fill them with 0 since those data is hard to predict with only 145 data records."
   ]
  },
  {
   "cell_type": "code",
   "execution_count": 8,
   "metadata": {
    "collapsed": true
   },
   "outputs": [],
   "source": [
    "# Fill 0 to replace NULL\n",
    "df=df.fillna(0)"
   ]
  },
  {
   "cell_type": "markdown",
   "metadata": {},
   "source": [
    "## Feature Engineering and Selection"
   ]
  },
  {
   "cell_type": "markdown",
   "metadata": {},
   "source": [
    "Within the 21 features:\n",
    "* to_messages - I will use this feature with from_poi_to_this_person. to_poi_ratio = to_messages/from_poi_to_this_person.\n",
    "* from_messages - the same as to_messages. I will create new features called from_poi_ratio = from_messages/from_this_person_to_poi\n",
    "\n",
    "The reason why I think it might help is that this kind of ratio will show the relationship between the person and POI, which may increase the probility of that person being POI."
   ]
  },
  {
   "cell_type": "code",
   "execution_count": 9,
   "metadata": {
    "collapsed": false
   },
   "outputs": [],
   "source": [
    "from sklearn.feature_selection import SelectKBest\n",
    "from sklearn.feature_selection import SelectPercentile, f_classif\n",
    "from sklearn.preprocessing import MinMaxScaler\n",
    "from sklearn.cross_validation import train_test_split\n",
    "from sklearn.metrics import accuracy_score, precision_score, recall_score\n"
   ]
  },
  {
   "cell_type": "code",
   "execution_count": 10,
   "metadata": {
    "collapsed": false
   },
   "outputs": [],
   "source": [
    "df['from_poi_to_this_person']=df['from_poi_to_this_person'].replace(0,0.1)"
   ]
  },
  {
   "cell_type": "code",
   "execution_count": 11,
   "metadata": {
    "collapsed": false
   },
   "outputs": [
    {
     "data": {
      "text/html": [
       "<div>\n",
       "<table border=\"1\" class=\"dataframe\">\n",
       "  <thead>\n",
       "    <tr style=\"text-align: right;\">\n",
       "      <th></th>\n",
       "      <th>salary</th>\n",
       "      <th>to_messages</th>\n",
       "      <th>deferral_payments</th>\n",
       "      <th>total_payments</th>\n",
       "      <th>exercised_stock_options</th>\n",
       "      <th>bonus</th>\n",
       "      <th>restricted_stock</th>\n",
       "      <th>shared_receipt_with_poi</th>\n",
       "      <th>restricted_stock_deferred</th>\n",
       "      <th>total_stock_value</th>\n",
       "      <th>expenses</th>\n",
       "      <th>loan_advances</th>\n",
       "      <th>from_messages</th>\n",
       "      <th>other</th>\n",
       "      <th>from_this_person_to_poi</th>\n",
       "      <th>director_fees</th>\n",
       "      <th>deferred_income</th>\n",
       "      <th>long_term_incentive</th>\n",
       "      <th>from_poi_to_this_person</th>\n",
       "    </tr>\n",
       "  </thead>\n",
       "  <tbody>\n",
       "    <tr>\n",
       "      <th>count</th>\n",
       "      <td>1.450000e+02</td>\n",
       "      <td>145.000000</td>\n",
       "      <td>1.450000e+02</td>\n",
       "      <td>1.450000e+02</td>\n",
       "      <td>1.450000e+02</td>\n",
       "      <td>1.450000e+02</td>\n",
       "      <td>1.450000e+02</td>\n",
       "      <td>145.000000</td>\n",
       "      <td>1.450000e+02</td>\n",
       "      <td>1.450000e+02</td>\n",
       "      <td>145.000000</td>\n",
       "      <td>1.450000e+02</td>\n",
       "      <td>145.000000</td>\n",
       "      <td>1.450000e+02</td>\n",
       "      <td>145.000000</td>\n",
       "      <td>145.000000</td>\n",
       "      <td>1.450000e+02</td>\n",
       "      <td>1.450000e+02</td>\n",
       "      <td>145.000000</td>\n",
       "    </tr>\n",
       "    <tr>\n",
       "      <th>mean</th>\n",
       "      <td>1.841671e+05</td>\n",
       "      <td>1230.013793</td>\n",
       "      <td>2.205579e+05</td>\n",
       "      <td>2.243477e+06</td>\n",
       "      <td>2.061486e+06</td>\n",
       "      <td>6.713353e+05</td>\n",
       "      <td>8.625464e+05</td>\n",
       "      <td>697.765517</td>\n",
       "      <td>7.291157e+04</td>\n",
       "      <td>2.889718e+06</td>\n",
       "      <td>35131.372414</td>\n",
       "      <td>5.787931e+05</td>\n",
       "      <td>361.075862</td>\n",
       "      <td>2.952100e+05</td>\n",
       "      <td>24.455172</td>\n",
       "      <td>9911.489655</td>\n",
       "      <td>-1.923475e+05</td>\n",
       "      <td>3.346340e+05</td>\n",
       "      <td>38.538621</td>\n",
       "    </tr>\n",
       "    <tr>\n",
       "      <th>std</th>\n",
       "      <td>1.969598e+05</td>\n",
       "      <td>2232.153003</td>\n",
       "      <td>7.517046e+05</td>\n",
       "      <td>8.817819e+06</td>\n",
       "      <td>4.781941e+06</td>\n",
       "      <td>1.230148e+06</td>\n",
       "      <td>2.010852e+06</td>\n",
       "      <td>1075.128126</td>\n",
       "      <td>1.297469e+06</td>\n",
       "      <td>6.172223e+06</td>\n",
       "      <td>45247.175705</td>\n",
       "      <td>6.771012e+06</td>\n",
       "      <td>1445.944684</td>\n",
       "      <td>1.127404e+06</td>\n",
       "      <td>79.527073</td>\n",
       "      <td>31202.712940</td>\n",
       "      <td>6.041174e+05</td>\n",
       "      <td>6.853639e+05</td>\n",
       "      <td>74.062757</td>\n",
       "    </tr>\n",
       "    <tr>\n",
       "      <th>min</th>\n",
       "      <td>0.000000e+00</td>\n",
       "      <td>0.000000</td>\n",
       "      <td>-1.025000e+05</td>\n",
       "      <td>0.000000e+00</td>\n",
       "      <td>0.000000e+00</td>\n",
       "      <td>0.000000e+00</td>\n",
       "      <td>-2.604490e+06</td>\n",
       "      <td>0.000000</td>\n",
       "      <td>-1.787380e+06</td>\n",
       "      <td>-4.409300e+04</td>\n",
       "      <td>0.000000</td>\n",
       "      <td>0.000000e+00</td>\n",
       "      <td>0.000000</td>\n",
       "      <td>0.000000e+00</td>\n",
       "      <td>0.000000</td>\n",
       "      <td>0.000000</td>\n",
       "      <td>-3.504386e+06</td>\n",
       "      <td>0.000000e+00</td>\n",
       "      <td>0.100000</td>\n",
       "    </tr>\n",
       "    <tr>\n",
       "      <th>25%</th>\n",
       "      <td>0.000000e+00</td>\n",
       "      <td>0.000000</td>\n",
       "      <td>0.000000e+00</td>\n",
       "      <td>9.109300e+04</td>\n",
       "      <td>0.000000e+00</td>\n",
       "      <td>0.000000e+00</td>\n",
       "      <td>0.000000e+00</td>\n",
       "      <td>0.000000</td>\n",
       "      <td>0.000000e+00</td>\n",
       "      <td>2.211410e+05</td>\n",
       "      <td>0.000000</td>\n",
       "      <td>0.000000e+00</td>\n",
       "      <td>0.000000</td>\n",
       "      <td>0.000000e+00</td>\n",
       "      <td>0.000000</td>\n",
       "      <td>0.000000</td>\n",
       "      <td>-3.666600e+04</td>\n",
       "      <td>0.000000e+00</td>\n",
       "      <td>0.100000</td>\n",
       "    </tr>\n",
       "    <tr>\n",
       "      <th>50%</th>\n",
       "      <td>2.105000e+05</td>\n",
       "      <td>312.000000</td>\n",
       "      <td>0.000000e+00</td>\n",
       "      <td>9.161970e+05</td>\n",
       "      <td>6.078370e+05</td>\n",
       "      <td>3.000000e+05</td>\n",
       "      <td>3.605280e+05</td>\n",
       "      <td>114.000000</td>\n",
       "      <td>0.000000e+00</td>\n",
       "      <td>9.558730e+05</td>\n",
       "      <td>18834.000000</td>\n",
       "      <td>0.000000e+00</td>\n",
       "      <td>17.000000</td>\n",
       "      <td>9.470000e+02</td>\n",
       "      <td>0.000000</td>\n",
       "      <td>0.000000</td>\n",
       "      <td>0.000000e+00</td>\n",
       "      <td>0.000000e+00</td>\n",
       "      <td>4.000000</td>\n",
       "    </tr>\n",
       "    <tr>\n",
       "      <th>75%</th>\n",
       "      <td>2.690760e+05</td>\n",
       "      <td>1607.000000</td>\n",
       "      <td>7.961000e+03</td>\n",
       "      <td>1.934359e+06</td>\n",
       "      <td>1.668260e+06</td>\n",
       "      <td>8.000000e+05</td>\n",
       "      <td>6.989200e+05</td>\n",
       "      <td>900.000000</td>\n",
       "      <td>0.000000e+00</td>\n",
       "      <td>2.282768e+06</td>\n",
       "      <td>53122.000000</td>\n",
       "      <td>0.000000e+00</td>\n",
       "      <td>52.000000</td>\n",
       "      <td>1.504580e+05</td>\n",
       "      <td>14.000000</td>\n",
       "      <td>0.000000</td>\n",
       "      <td>0.000000e+00</td>\n",
       "      <td>3.743470e+05</td>\n",
       "      <td>41.000000</td>\n",
       "    </tr>\n",
       "    <tr>\n",
       "      <th>max</th>\n",
       "      <td>1.111258e+06</td>\n",
       "      <td>15149.000000</td>\n",
       "      <td>6.426990e+06</td>\n",
       "      <td>1.035598e+08</td>\n",
       "      <td>3.434838e+07</td>\n",
       "      <td>8.000000e+06</td>\n",
       "      <td>1.476169e+07</td>\n",
       "      <td>5521.000000</td>\n",
       "      <td>1.545629e+07</td>\n",
       "      <td>4.911008e+07</td>\n",
       "      <td>228763.000000</td>\n",
       "      <td>8.152500e+07</td>\n",
       "      <td>14368.000000</td>\n",
       "      <td>1.035973e+07</td>\n",
       "      <td>609.000000</td>\n",
       "      <td>137864.000000</td>\n",
       "      <td>0.000000e+00</td>\n",
       "      <td>5.145434e+06</td>\n",
       "      <td>528.000000</td>\n",
       "    </tr>\n",
       "  </tbody>\n",
       "</table>\n",
       "</div>"
      ],
      "text/plain": [
       "             salary   to_messages  deferral_payments  total_payments  \\\n",
       "count  1.450000e+02    145.000000       1.450000e+02    1.450000e+02   \n",
       "mean   1.841671e+05   1230.013793       2.205579e+05    2.243477e+06   \n",
       "std    1.969598e+05   2232.153003       7.517046e+05    8.817819e+06   \n",
       "min    0.000000e+00      0.000000      -1.025000e+05    0.000000e+00   \n",
       "25%    0.000000e+00      0.000000       0.000000e+00    9.109300e+04   \n",
       "50%    2.105000e+05    312.000000       0.000000e+00    9.161970e+05   \n",
       "75%    2.690760e+05   1607.000000       7.961000e+03    1.934359e+06   \n",
       "max    1.111258e+06  15149.000000       6.426990e+06    1.035598e+08   \n",
       "\n",
       "       exercised_stock_options         bonus  restricted_stock  \\\n",
       "count             1.450000e+02  1.450000e+02      1.450000e+02   \n",
       "mean              2.061486e+06  6.713353e+05      8.625464e+05   \n",
       "std               4.781941e+06  1.230148e+06      2.010852e+06   \n",
       "min               0.000000e+00  0.000000e+00     -2.604490e+06   \n",
       "25%               0.000000e+00  0.000000e+00      0.000000e+00   \n",
       "50%               6.078370e+05  3.000000e+05      3.605280e+05   \n",
       "75%               1.668260e+06  8.000000e+05      6.989200e+05   \n",
       "max               3.434838e+07  8.000000e+06      1.476169e+07   \n",
       "\n",
       "       shared_receipt_with_poi  restricted_stock_deferred  total_stock_value  \\\n",
       "count               145.000000               1.450000e+02       1.450000e+02   \n",
       "mean                697.765517               7.291157e+04       2.889718e+06   \n",
       "std                1075.128126               1.297469e+06       6.172223e+06   \n",
       "min                   0.000000              -1.787380e+06      -4.409300e+04   \n",
       "25%                   0.000000               0.000000e+00       2.211410e+05   \n",
       "50%                 114.000000               0.000000e+00       9.558730e+05   \n",
       "75%                 900.000000               0.000000e+00       2.282768e+06   \n",
       "max                5521.000000               1.545629e+07       4.911008e+07   \n",
       "\n",
       "            expenses  loan_advances  from_messages         other  \\\n",
       "count     145.000000   1.450000e+02     145.000000  1.450000e+02   \n",
       "mean    35131.372414   5.787931e+05     361.075862  2.952100e+05   \n",
       "std     45247.175705   6.771012e+06    1445.944684  1.127404e+06   \n",
       "min         0.000000   0.000000e+00       0.000000  0.000000e+00   \n",
       "25%         0.000000   0.000000e+00       0.000000  0.000000e+00   \n",
       "50%     18834.000000   0.000000e+00      17.000000  9.470000e+02   \n",
       "75%     53122.000000   0.000000e+00      52.000000  1.504580e+05   \n",
       "max    228763.000000   8.152500e+07   14368.000000  1.035973e+07   \n",
       "\n",
       "       from_this_person_to_poi  director_fees  deferred_income  \\\n",
       "count               145.000000     145.000000     1.450000e+02   \n",
       "mean                 24.455172    9911.489655    -1.923475e+05   \n",
       "std                  79.527073   31202.712940     6.041174e+05   \n",
       "min                   0.000000       0.000000    -3.504386e+06   \n",
       "25%                   0.000000       0.000000    -3.666600e+04   \n",
       "50%                   0.000000       0.000000     0.000000e+00   \n",
       "75%                  14.000000       0.000000     0.000000e+00   \n",
       "max                 609.000000  137864.000000     0.000000e+00   \n",
       "\n",
       "       long_term_incentive  from_poi_to_this_person  \n",
       "count         1.450000e+02               145.000000  \n",
       "mean          3.346340e+05                38.538621  \n",
       "std           6.853639e+05                74.062757  \n",
       "min           0.000000e+00                 0.100000  \n",
       "25%           0.000000e+00                 0.100000  \n",
       "50%           0.000000e+00                 4.000000  \n",
       "75%           3.743470e+05                41.000000  \n",
       "max           5.145434e+06               528.000000  "
      ]
     },
     "execution_count": 11,
     "metadata": {},
     "output_type": "execute_result"
    }
   ],
   "source": [
    "df.describe()"
   ]
  },
  {
   "cell_type": "code",
   "execution_count": 12,
   "metadata": {
    "collapsed": false
   },
   "outputs": [],
   "source": [
    "# replace 0 to very small value 0.1 to avoid inf\n",
    "df['from_this_person_to_poi']=df['from_this_person_to_poi'].replace(0,0.1)"
   ]
  },
  {
   "cell_type": "code",
   "execution_count": 13,
   "metadata": {
    "collapsed": false
   },
   "outputs": [],
   "source": [
    "#create new features\n",
    "df['to_poi_ratio'] = df.to_messages/df.from_poi_to_this_person"
   ]
  },
  {
   "cell_type": "code",
   "execution_count": 14,
   "metadata": {
    "collapsed": false
   },
   "outputs": [],
   "source": [
    "#create new features\n",
    "df['from_poi_ratio'] = df.from_messages/df.from_this_person_to_poi"
   ]
  },
  {
   "cell_type": "code",
   "execution_count": 15,
   "metadata": {
    "collapsed": false
   },
   "outputs": [
    {
     "name": "stdout",
     "output_type": "stream",
     "text": [
      "<class 'pandas.core.frame.DataFrame'>\n",
      "Index: 145 entries, ALLEN PHILLIP K to YEAP SOON\n",
      "Data columns (total 23 columns):\n",
      "salary                       145 non-null float64\n",
      "to_messages                  145 non-null float64\n",
      "deferral_payments            145 non-null float64\n",
      "total_payments               145 non-null float64\n",
      "exercised_stock_options      145 non-null float64\n",
      "bonus                        145 non-null float64\n",
      "restricted_stock             145 non-null float64\n",
      "shared_receipt_with_poi      145 non-null float64\n",
      "restricted_stock_deferred    145 non-null float64\n",
      "total_stock_value            145 non-null float64\n",
      "expenses                     145 non-null float64\n",
      "loan_advances                145 non-null float64\n",
      "from_messages                145 non-null float64\n",
      "other                        145 non-null float64\n",
      "from_this_person_to_poi      145 non-null float64\n",
      "poi                          145 non-null bool\n",
      "director_fees                145 non-null float64\n",
      "deferred_income              145 non-null float64\n",
      "long_term_incentive          145 non-null float64\n",
      "email_address                145 non-null object\n",
      "from_poi_to_this_person      145 non-null float64\n",
      "to_poi_ratio                 145 non-null float64\n",
      "from_poi_ratio               145 non-null float64\n",
      "dtypes: bool(1), float64(21), object(1)\n",
      "memory usage: 26.2+ KB\n"
     ]
    }
   ],
   "source": [
    "df.info()"
   ]
  },
  {
   "cell_type": "code",
   "execution_count": 38,
   "metadata": {
    "collapsed": false
   },
   "outputs": [],
   "source": [
    "#seperate features and label\n",
    "features = df.drop(['poi', 'email_address'],axis=1)\n",
    "label = df.poi"
   ]
  },
  {
   "cell_type": "code",
   "execution_count": 39,
   "metadata": {
    "collapsed": true
   },
   "outputs": [],
   "source": [
    "features=features.fillna(0)"
   ]
  },
  {
   "cell_type": "code",
   "execution_count": 40,
   "metadata": {
    "collapsed": false
   },
   "outputs": [
    {
     "data": {
      "text/html": [
       "<div>\n",
       "<table border=\"1\" class=\"dataframe\">\n",
       "  <thead>\n",
       "    <tr style=\"text-align: right;\">\n",
       "      <th></th>\n",
       "      <th>salary</th>\n",
       "      <th>to_messages</th>\n",
       "      <th>deferral_payments</th>\n",
       "      <th>total_payments</th>\n",
       "      <th>exercised_stock_options</th>\n",
       "      <th>bonus</th>\n",
       "      <th>restricted_stock</th>\n",
       "      <th>shared_receipt_with_poi</th>\n",
       "      <th>restricted_stock_deferred</th>\n",
       "      <th>total_stock_value</th>\n",
       "      <th>...</th>\n",
       "      <th>loan_advances</th>\n",
       "      <th>from_messages</th>\n",
       "      <th>other</th>\n",
       "      <th>from_this_person_to_poi</th>\n",
       "      <th>director_fees</th>\n",
       "      <th>deferred_income</th>\n",
       "      <th>long_term_incentive</th>\n",
       "      <th>from_poi_to_this_person</th>\n",
       "      <th>to_poi_ratio</th>\n",
       "      <th>from_poi_ratio</th>\n",
       "    </tr>\n",
       "  </thead>\n",
       "  <tbody>\n",
       "    <tr>\n",
       "      <th>count</th>\n",
       "      <td>1.450000e+02</td>\n",
       "      <td>145.000000</td>\n",
       "      <td>1.450000e+02</td>\n",
       "      <td>1.450000e+02</td>\n",
       "      <td>1.450000e+02</td>\n",
       "      <td>1.450000e+02</td>\n",
       "      <td>1.450000e+02</td>\n",
       "      <td>145.000000</td>\n",
       "      <td>1.450000e+02</td>\n",
       "      <td>1.450000e+02</td>\n",
       "      <td>...</td>\n",
       "      <td>1.450000e+02</td>\n",
       "      <td>145.000000</td>\n",
       "      <td>1.450000e+02</td>\n",
       "      <td>145.000000</td>\n",
       "      <td>145.000000</td>\n",
       "      <td>1.450000e+02</td>\n",
       "      <td>1.450000e+02</td>\n",
       "      <td>145.000000</td>\n",
       "      <td>145.000000</td>\n",
       "      <td>145.000000</td>\n",
       "    </tr>\n",
       "    <tr>\n",
       "      <th>mean</th>\n",
       "      <td>1.841671e+05</td>\n",
       "      <td>1230.013793</td>\n",
       "      <td>2.205579e+05</td>\n",
       "      <td>2.243477e+06</td>\n",
       "      <td>2.061486e+06</td>\n",
       "      <td>6.713353e+05</td>\n",
       "      <td>8.625464e+05</td>\n",
       "      <td>697.765517</td>\n",
       "      <td>7.291157e+04</td>\n",
       "      <td>2.889718e+06</td>\n",
       "      <td>...</td>\n",
       "      <td>5.787931e+05</td>\n",
       "      <td>361.075862</td>\n",
       "      <td>2.952100e+05</td>\n",
       "      <td>24.509655</td>\n",
       "      <td>9911.489655</td>\n",
       "      <td>-1.923475e+05</td>\n",
       "      <td>3.346340e+05</td>\n",
       "      <td>38.538621</td>\n",
       "      <td>366.544428</td>\n",
       "      <td>74.778443</td>\n",
       "    </tr>\n",
       "    <tr>\n",
       "      <th>std</th>\n",
       "      <td>1.969598e+05</td>\n",
       "      <td>2232.153003</td>\n",
       "      <td>7.517046e+05</td>\n",
       "      <td>8.817819e+06</td>\n",
       "      <td>4.781941e+06</td>\n",
       "      <td>1.230148e+06</td>\n",
       "      <td>2.010852e+06</td>\n",
       "      <td>1075.128126</td>\n",
       "      <td>1.297469e+06</td>\n",
       "      <td>6.172223e+06</td>\n",
       "      <td>...</td>\n",
       "      <td>6.771012e+06</td>\n",
       "      <td>1445.944684</td>\n",
       "      <td>1.127404e+06</td>\n",
       "      <td>79.510216</td>\n",
       "      <td>31202.712940</td>\n",
       "      <td>6.041174e+05</td>\n",
       "      <td>6.853639e+05</td>\n",
       "      <td>74.062757</td>\n",
       "      <td>1412.730160</td>\n",
       "      <td>264.604244</td>\n",
       "    </tr>\n",
       "    <tr>\n",
       "      <th>min</th>\n",
       "      <td>0.000000e+00</td>\n",
       "      <td>0.000000</td>\n",
       "      <td>-1.025000e+05</td>\n",
       "      <td>0.000000e+00</td>\n",
       "      <td>0.000000e+00</td>\n",
       "      <td>0.000000e+00</td>\n",
       "      <td>-2.604490e+06</td>\n",
       "      <td>0.000000</td>\n",
       "      <td>-1.787380e+06</td>\n",
       "      <td>-4.409300e+04</td>\n",
       "      <td>...</td>\n",
       "      <td>0.000000e+00</td>\n",
       "      <td>0.000000</td>\n",
       "      <td>0.000000e+00</td>\n",
       "      <td>0.100000</td>\n",
       "      <td>0.000000</td>\n",
       "      <td>-3.504386e+06</td>\n",
       "      <td>0.000000e+00</td>\n",
       "      <td>0.100000</td>\n",
       "      <td>0.000000</td>\n",
       "      <td>0.000000</td>\n",
       "    </tr>\n",
       "    <tr>\n",
       "      <th>25%</th>\n",
       "      <td>0.000000e+00</td>\n",
       "      <td>0.000000</td>\n",
       "      <td>0.000000e+00</td>\n",
       "      <td>9.109300e+04</td>\n",
       "      <td>0.000000e+00</td>\n",
       "      <td>0.000000e+00</td>\n",
       "      <td>0.000000e+00</td>\n",
       "      <td>0.000000</td>\n",
       "      <td>0.000000e+00</td>\n",
       "      <td>2.211410e+05</td>\n",
       "      <td>...</td>\n",
       "      <td>0.000000e+00</td>\n",
       "      <td>0.000000</td>\n",
       "      <td>0.000000e+00</td>\n",
       "      <td>0.100000</td>\n",
       "      <td>0.000000</td>\n",
       "      <td>-3.666600e+04</td>\n",
       "      <td>0.000000e+00</td>\n",
       "      <td>0.100000</td>\n",
       "      <td>0.000000</td>\n",
       "      <td>0.000000</td>\n",
       "    </tr>\n",
       "    <tr>\n",
       "      <th>50%</th>\n",
       "      <td>2.105000e+05</td>\n",
       "      <td>312.000000</td>\n",
       "      <td>0.000000e+00</td>\n",
       "      <td>9.161970e+05</td>\n",
       "      <td>6.078370e+05</td>\n",
       "      <td>3.000000e+05</td>\n",
       "      <td>3.605280e+05</td>\n",
       "      <td>114.000000</td>\n",
       "      <td>0.000000e+00</td>\n",
       "      <td>9.558730e+05</td>\n",
       "      <td>...</td>\n",
       "      <td>0.000000e+00</td>\n",
       "      <td>17.000000</td>\n",
       "      <td>9.470000e+02</td>\n",
       "      <td>0.100000</td>\n",
       "      <td>0.000000</td>\n",
       "      <td>0.000000e+00</td>\n",
       "      <td>0.000000e+00</td>\n",
       "      <td>4.000000</td>\n",
       "      <td>13.533058</td>\n",
       "      <td>2.666667</td>\n",
       "    </tr>\n",
       "    <tr>\n",
       "      <th>75%</th>\n",
       "      <td>2.690760e+05</td>\n",
       "      <td>1607.000000</td>\n",
       "      <td>7.961000e+03</td>\n",
       "      <td>1.934359e+06</td>\n",
       "      <td>1.668260e+06</td>\n",
       "      <td>8.000000e+05</td>\n",
       "      <td>6.989200e+05</td>\n",
       "      <td>900.000000</td>\n",
       "      <td>0.000000e+00</td>\n",
       "      <td>2.282768e+06</td>\n",
       "      <td>...</td>\n",
       "      <td>0.000000e+00</td>\n",
       "      <td>52.000000</td>\n",
       "      <td>1.504580e+05</td>\n",
       "      <td>14.000000</td>\n",
       "      <td>0.000000</td>\n",
       "      <td>0.000000e+00</td>\n",
       "      <td>3.743470e+05</td>\n",
       "      <td>41.000000</td>\n",
       "      <td>46.000000</td>\n",
       "      <td>18.500000</td>\n",
       "    </tr>\n",
       "    <tr>\n",
       "      <th>max</th>\n",
       "      <td>1.111258e+06</td>\n",
       "      <td>15149.000000</td>\n",
       "      <td>6.426990e+06</td>\n",
       "      <td>1.035598e+08</td>\n",
       "      <td>3.434838e+07</td>\n",
       "      <td>8.000000e+06</td>\n",
       "      <td>1.476169e+07</td>\n",
       "      <td>5521.000000</td>\n",
       "      <td>1.545629e+07</td>\n",
       "      <td>4.911008e+07</td>\n",
       "      <td>...</td>\n",
       "      <td>8.152500e+07</td>\n",
       "      <td>14368.000000</td>\n",
       "      <td>1.035973e+07</td>\n",
       "      <td>609.000000</td>\n",
       "      <td>137864.000000</td>\n",
       "      <td>0.000000e+00</td>\n",
       "      <td>5.145434e+06</td>\n",
       "      <td>528.000000</td>\n",
       "      <td>10880.000000</td>\n",
       "      <td>2300.000000</td>\n",
       "    </tr>\n",
       "  </tbody>\n",
       "</table>\n",
       "<p>8 rows × 21 columns</p>\n",
       "</div>"
      ],
      "text/plain": [
       "             salary   to_messages  deferral_payments  total_payments  \\\n",
       "count  1.450000e+02    145.000000       1.450000e+02    1.450000e+02   \n",
       "mean   1.841671e+05   1230.013793       2.205579e+05    2.243477e+06   \n",
       "std    1.969598e+05   2232.153003       7.517046e+05    8.817819e+06   \n",
       "min    0.000000e+00      0.000000      -1.025000e+05    0.000000e+00   \n",
       "25%    0.000000e+00      0.000000       0.000000e+00    9.109300e+04   \n",
       "50%    2.105000e+05    312.000000       0.000000e+00    9.161970e+05   \n",
       "75%    2.690760e+05   1607.000000       7.961000e+03    1.934359e+06   \n",
       "max    1.111258e+06  15149.000000       6.426990e+06    1.035598e+08   \n",
       "\n",
       "       exercised_stock_options         bonus  restricted_stock  \\\n",
       "count             1.450000e+02  1.450000e+02      1.450000e+02   \n",
       "mean              2.061486e+06  6.713353e+05      8.625464e+05   \n",
       "std               4.781941e+06  1.230148e+06      2.010852e+06   \n",
       "min               0.000000e+00  0.000000e+00     -2.604490e+06   \n",
       "25%               0.000000e+00  0.000000e+00      0.000000e+00   \n",
       "50%               6.078370e+05  3.000000e+05      3.605280e+05   \n",
       "75%               1.668260e+06  8.000000e+05      6.989200e+05   \n",
       "max               3.434838e+07  8.000000e+06      1.476169e+07   \n",
       "\n",
       "       shared_receipt_with_poi  restricted_stock_deferred  total_stock_value  \\\n",
       "count               145.000000               1.450000e+02       1.450000e+02   \n",
       "mean                697.765517               7.291157e+04       2.889718e+06   \n",
       "std                1075.128126               1.297469e+06       6.172223e+06   \n",
       "min                   0.000000              -1.787380e+06      -4.409300e+04   \n",
       "25%                   0.000000               0.000000e+00       2.211410e+05   \n",
       "50%                 114.000000               0.000000e+00       9.558730e+05   \n",
       "75%                 900.000000               0.000000e+00       2.282768e+06   \n",
       "max                5521.000000               1.545629e+07       4.911008e+07   \n",
       "\n",
       "            ...        loan_advances  from_messages         other  \\\n",
       "count       ...         1.450000e+02     145.000000  1.450000e+02   \n",
       "mean        ...         5.787931e+05     361.075862  2.952100e+05   \n",
       "std         ...         6.771012e+06    1445.944684  1.127404e+06   \n",
       "min         ...         0.000000e+00       0.000000  0.000000e+00   \n",
       "25%         ...         0.000000e+00       0.000000  0.000000e+00   \n",
       "50%         ...         0.000000e+00      17.000000  9.470000e+02   \n",
       "75%         ...         0.000000e+00      52.000000  1.504580e+05   \n",
       "max         ...         8.152500e+07   14368.000000  1.035973e+07   \n",
       "\n",
       "       from_this_person_to_poi  director_fees  deferred_income  \\\n",
       "count               145.000000     145.000000     1.450000e+02   \n",
       "mean                 24.509655    9911.489655    -1.923475e+05   \n",
       "std                  79.510216   31202.712940     6.041174e+05   \n",
       "min                   0.100000       0.000000    -3.504386e+06   \n",
       "25%                   0.100000       0.000000    -3.666600e+04   \n",
       "50%                   0.100000       0.000000     0.000000e+00   \n",
       "75%                  14.000000       0.000000     0.000000e+00   \n",
       "max                 609.000000  137864.000000     0.000000e+00   \n",
       "\n",
       "       long_term_incentive  from_poi_to_this_person  to_poi_ratio  \\\n",
       "count         1.450000e+02               145.000000    145.000000   \n",
       "mean          3.346340e+05                38.538621    366.544428   \n",
       "std           6.853639e+05                74.062757   1412.730160   \n",
       "min           0.000000e+00                 0.100000      0.000000   \n",
       "25%           0.000000e+00                 0.100000      0.000000   \n",
       "50%           0.000000e+00                 4.000000     13.533058   \n",
       "75%           3.743470e+05                41.000000     46.000000   \n",
       "max           5.145434e+06               528.000000  10880.000000   \n",
       "\n",
       "       from_poi_ratio  \n",
       "count      145.000000  \n",
       "mean        74.778443  \n",
       "std        264.604244  \n",
       "min          0.000000  \n",
       "25%          0.000000  \n",
       "50%          2.666667  \n",
       "75%         18.500000  \n",
       "max       2300.000000  \n",
       "\n",
       "[8 rows x 21 columns]"
      ]
     },
     "execution_count": 40,
     "metadata": {},
     "output_type": "execute_result"
    }
   ],
   "source": [
    "features.describe()"
   ]
  },
  {
   "cell_type": "code",
   "execution_count": 42,
   "metadata": {
    "collapsed": false
   },
   "outputs": [],
   "source": [
    "#retain column headers\n",
    "columns = features.columns.values.tolist()\n"
   ]
  },
  {
   "cell_type": "code",
   "execution_count": 43,
   "metadata": {
    "collapsed": false
   },
   "outputs": [
    {
     "data": {
      "text/plain": [
       "['salary',\n",
       " 'to_messages',\n",
       " 'deferral_payments',\n",
       " 'total_payments',\n",
       " 'exercised_stock_options',\n",
       " 'bonus',\n",
       " 'restricted_stock',\n",
       " 'shared_receipt_with_poi',\n",
       " 'restricted_stock_deferred',\n",
       " 'total_stock_value',\n",
       " 'expenses',\n",
       " 'loan_advances',\n",
       " 'from_messages',\n",
       " 'other',\n",
       " 'from_this_person_to_poi',\n",
       " 'director_fees',\n",
       " 'deferred_income',\n",
       " 'long_term_incentive',\n",
       " 'from_poi_to_this_person',\n",
       " 'to_poi_ratio',\n",
       " 'from_poi_ratio']"
      ]
     },
     "execution_count": 43,
     "metadata": {},
     "output_type": "execute_result"
    }
   ],
   "source": [
    "columns"
   ]
  },
  {
   "cell_type": "code",
   "execution_count": 44,
   "metadata": {
    "collapsed": false
   },
   "outputs": [],
   "source": [
    "#scale features\n",
    "scaler = MinMaxScaler()\n",
    "features = scaler.fit_transform(features)\n"
   ]
  },
  {
   "cell_type": "code",
   "execution_count": 45,
   "metadata": {
    "collapsed": false
   },
   "outputs": [
    {
     "name": "stdout",
     "output_type": "stream",
     "text": [
      "[ 18.86179532   1.75169428   0.20970584   8.96781935  25.3801053\n",
      "  21.32789041   9.4807432    8.90382156   0.06447703  24.75252302\n",
      "   6.37461449   7.30140665   0.15877024   4.26357664   2.4656773\n",
      "   2.0893099   11.73269808  10.22290421   5.44254424   1.22461962\n",
      "   1.53222837]\n"
     ]
    }
   ],
   "source": [
    "#select k best features\n",
    "k_best = SelectKBest(k=21).fit(features,label)\n",
    "\n",
    "print k_best.scores_\n"
   ]
  },
  {
   "cell_type": "code",
   "execution_count": 100,
   "metadata": {
    "collapsed": false
   },
   "outputs": [
    {
     "name": "stdout",
     "output_type": "stream",
     "text": [
      "                               score\n",
      "salary                     18.861795\n",
      "to_messages                 1.751694\n",
      "from_poi_ratio              1.532228\n",
      "deferral_payments           0.209706\n",
      "total_payments              8.967819\n",
      "loan_advances               7.301407\n",
      "bonus                      21.327890\n",
      "restricted_stock_deferred   0.064477\n",
      "total_stock_value          24.752523\n",
      "shared_receipt_with_poi     8.903822\n",
      "long_term_incentive        10.222904\n",
      "exercised_stock_options    25.380105\n",
      "from_messages               0.158770\n",
      "other                       4.263577\n",
      "from_poi_to_this_person     5.442544\n",
      "from_this_person_to_poi     2.465677\n",
      "to_poi_ratio                1.224620\n",
      "deferred_income            11.732698\n",
      "expenses                    6.374614\n",
      "restricted_stock            9.480743\n",
      "director_fees               2.089310\n"
     ]
    }
   ],
   "source": [
    "b = pd.DataFrame.from_dict(dict(zip(columns,k_best.scores_)),orient='index')\n",
    "b.columns = ['score']\n",
    "print b"
   ]
  },
  {
   "cell_type": "code",
   "execution_count": 98,
   "metadata": {
    "collapsed": false
   },
   "outputs": [],
   "source": []
  },
  {
   "cell_type": "code",
   "execution_count": 108,
   "metadata": {
    "collapsed": false
   },
   "outputs": [
    {
     "name": "stdout",
     "output_type": "stream",
     "text": [
      "                               score\n",
      "exercised_stock_options    25.380105\n",
      "total_stock_value          24.752523\n",
      "bonus                      21.327890\n",
      "salary                     18.861795\n",
      "deferred_income            11.732698\n",
      "long_term_incentive        10.222904\n",
      "restricted_stock            9.480743\n",
      "total_payments              8.967819\n",
      "shared_receipt_with_poi     8.903822\n",
      "loan_advances               7.301407\n",
      "expenses                    6.374614\n",
      "from_poi_to_this_person     5.442544\n",
      "other                       4.263577\n",
      "from_this_person_to_poi     2.465677\n",
      "director_fees               2.089310\n",
      "to_messages                 1.751694\n",
      "from_poi_ratio              1.532228\n",
      "to_poi_ratio                1.224620\n",
      "deferral_payments           0.209706\n",
      "from_messages               0.158770\n",
      "restricted_stock_deferred   0.064477\n"
     ]
    },
    {
     "name": "stderr",
     "output_type": "stream",
     "text": [
      "C:\\Users\\Ruofei\\Anaconda2\\lib\\site-packages\\ipykernel\\__main__.py:1: FutureWarning: sort(columns=....) is deprecated, use sort_values(by=.....)\n",
      "  if __name__ == '__main__':\n"
     ]
    }
   ],
   "source": [
    "b1 = b.sort(['score'],ascending = False)\n",
    "print b1"
   ]
  },
  {
   "cell_type": "code",
   "execution_count": 109,
   "metadata": {
    "collapsed": false
   },
   "outputs": [
    {
     "data": {
      "text/plain": [
       "<matplotlib.axes._subplots.AxesSubplot at 0xd5c9dd8>"
      ]
     },
     "execution_count": 109,
     "metadata": {},
     "output_type": "execute_result"
    },
    {
     "data": {
      "image/png": "[encoded data removed]",
      "text/plain": [
       "<matplotlib.figure.Figure at 0xcaf7400>"
      ]
     },
     "metadata": {},
     "output_type": "display_data"
    }
   ],
   "source": [
    "b1.plot(kind = 'bar')"
   ]
  },
  {
   "cell_type": "markdown",
   "metadata": {},
   "source": [
    "Select K Best help me to select bonus, salary, total_stock_value, and exercised_stock_options to create the model. I select 4 of them because there is a cutoff in the graph between 4th and 5th features. I selected 4 best of them to get most use of features. The two new features created by me - from_poi_ratio, to_poi_ratio are not selected."
   ]
  },
  {
   "cell_type": "markdown",
   "metadata": {},
   "source": [
    "## Model Selection and Tuning"
   ]
  },
  {
   "cell_type": "code",
   "execution_count": 110,
   "metadata": {
    "collapsed": false
   },
   "outputs": [],
   "source": [
    "labels_1 = df.poi"
   ]
  },
  {
   "cell_type": "code",
   "execution_count": 111,
   "metadata": {
    "collapsed": false
   },
   "outputs": [],
   "source": [
    "features_1 = df[['salary','bonus','total_stock_value','exercised_stock_options']]"
   ]
  },
  {
   "cell_type": "markdown",
   "metadata": {},
   "source": [
    "I'm going to split the data into train and test dataset to do the validation. We will train the model on the training dataset and validate the model on test dataset. By doing this, we will not overfit the training data and we expect smiliar perfomance when we apply our model to other dataset. If we don't perform the validation, we will see very small errors when we train the model, but very large error when we apply the model to other population. "
   ]
  },
  {
   "cell_type": "code",
   "execution_count": 113,
   "metadata": {
    "collapsed": true
   },
   "outputs": [],
   "source": [
    "#split train and test dataset\n",
    "from sklearn.cross_validation import train_test_split\n",
    "features_train, features_test, labels_train, labels_test = train_test_split(features_1, labels_1, test_size = 0.3)"
   ]
  },
  {
   "cell_type": "markdown",
   "metadata": {},
   "source": [
    "Since this is a classification question, I'm going to use Decision Tree, Naive Bayes, Random forest and AdaBoost to train model and compare with each other in order to select the most accurate one."
   ]
  },
  {
   "cell_type": "markdown",
   "metadata": {},
   "source": [
    "Model Parameters tuning is very important because the change of each parameter will result in different permance of models. We want to get tuned parameters that give us the best performance. Since for every model, there are lots of parameters to be tuned, I'm using gridSearchCV to automatically tune the model parameters."
   ]
  },
  {
   "cell_type": "code",
   "execution_count": 134,
   "metadata": {
    "collapsed": false
   },
   "outputs": [
    {
     "name": "stdout",
     "output_type": "stream",
     "text": [
      "Accuracy score: 0.142857142857\n",
      "\n",
      "Precision (POIs): 0.333333333333\n",
      "Recall (POIs) 0.142857142857\n"
     ]
    }
   ],
   "source": [
    "#train Decision Tree Model\n",
    "from sklearn.tree import DecisionTreeClassifier\n",
    "from sklearn.grid_search import GridSearchCV\n",
    "from sklearn.model_selection import StratifiedShuffleSplit\n",
    "\n",
    "clf = DecisionTreeClassifier()\n",
    "parameters = {'criterion': ['gini', 'entropy'],\n",
    "               'min_samples_split': [2, 10, 20],\n",
    "              'max_depth': [None, 2, 5, 10],\n",
    "              'min_samples_leaf': [1, 5, 10],\n",
    "              'max_leaf_nodes': [None, 5, 10, 20]}\n",
    "\n",
    "grid_search = GridSearchCV(clf, parameters,scoring = 'recall')\n",
    "\n",
    "\n",
    "grid_search.fit(features_train, labels_train)\n",
    "\n",
    "print \"Accuracy score:\", grid_search.score(features_test,labels_test)\n",
    "\n",
    "from sklearn.metrics import recall_score,precision_score\n",
    "pred = grid_search.predict(features_test)\n",
    "recall = recall_score(labels_test,pred)\n",
    "precision = precision_score(labels_test,pred)\n",
    "\n",
    "print \"\\nPrecision (POIs):\", precision\n",
    "print \"Recall (POIs)\", recall"
   ]
  },
  {
   "cell_type": "code",
   "execution_count": 128,
   "metadata": {
    "collapsed": false
   },
   "outputs": [
    {
     "name": "stdout",
     "output_type": "stream",
     "text": [
      "Accuracy score: 0.285714285714\n",
      "\n",
      "Precision (POIs): 0.333333333333\n",
      "Recall (POIs) 0.285714285714\n"
     ]
    }
   ],
   "source": [
    "#train Naive Bayes Model\n",
    "from sklearn.naive_bayes import GaussianNB\n",
    "from sklearn.grid_search import GridSearchCV\n",
    "\n",
    "clf = GaussianNB()\n",
    "parameters = {}\n",
    "grid_search = GridSearchCV(clf, parameters,scoring = 'recall')\n",
    "grid_search.fit(features_train, labels_train)\n",
    "\n",
    "print \"Accuracy score:\", grid_search.score(features_test,labels_test)\n",
    "\n",
    "from sklearn.metrics import recall_score,precision_score\n",
    "pred = grid_search.predict(features_test)\n",
    "recall = recall_score(labels_test,pred)\n",
    "precision = precision_score(labels_test,pred)\n",
    "\n",
    "print \"\\nPrecision (POIs):\", precision\n",
    "print \"Recall (POIs)\", recall"
   ]
  },
  {
   "cell_type": "code",
   "execution_count": 130,
   "metadata": {
    "collapsed": false
   },
   "outputs": [
    {
     "name": "stdout",
     "output_type": "stream",
     "text": [
      "Accuracy score: 0.285714285714\n",
      "\n",
      "Precision (POIs): 0.333333333333\n",
      "Recall (POIs) 0.285714285714\n"
     ]
    }
   ],
   "source": [
    "#train Random Forest Model\n",
    "from sklearn.ensemble import RandomForestClassifier\n",
    "from sklearn.grid_search import GridSearchCV\n",
    "\n",
    "clf = RandomForestClassifier()\n",
    "parameters = {\"n_estimators\"      : [250, 300],\n",
    "           \"criterion\"         : [\"gini\", \"entropy\"],\n",
    "           \"max_features\"      : [1, 4],\n",
    "           \"max_depth\"         : [10, 20],\n",
    "           \"min_samples_split\" : [2, 4] ,\n",
    "           \"bootstrap\": [True, False]}\n",
    "grid_search = GridSearchCV(clf, parameters,scoring = 'recall')\n",
    "grid_search.fit(features_train, labels_train)\n",
    "\n",
    "print \"Accuracy score:\", grid_search.score(features_test,labels_test)\n",
    "\n",
    "from sklearn.metrics import recall_score,precision_score\n",
    "pred = grid_search.predict(features_test)\n",
    "recall = recall_score(labels_test,pred)\n",
    "precision = precision_score(labels_test,pred)\n",
    "\n",
    "print \"\\nPrecision (POIs):\", precision\n",
    "print \"Recall (POIs)\", recall"
   ]
  },
  {
   "cell_type": "code",
   "execution_count": 129,
   "metadata": {
    "collapsed": false
   },
   "outputs": [
    {
     "name": "stdout",
     "output_type": "stream",
     "text": [
      "Accuracy score: 0.285714285714\n",
      "\n",
      "Precision (POIs): 0.5\n",
      "Recall (POIs) 0.285714285714\n"
     ]
    }
   ],
   "source": [
    "#train AdaBoost Model\n",
    "from sklearn.ensemble import AdaBoostClassifier\n",
    "from sklearn.grid_search import GridSearchCV\n",
    "\n",
    "clf = AdaBoostClassifier()\n",
    "parameters = {'n_estimators': [10, 20, 30, 40, 50],\n",
    "               'algorithm': ['SAMME', 'SAMME.R'],\n",
    "               'learning_rate': [.5,.8, 1, 1.2, 1.5]}\n",
    "grid_search = GridSearchCV(clf, parameters,scoring = 'recall')\n",
    "grid_search.fit(features_train, labels_train)\n",
    "\n",
    "print \"Accuracy score:\", grid_search.score(features_test,labels_test)\n",
    "\n",
    "from sklearn.metrics import recall_score,precision_score\n",
    "pred = grid_search.predict(features_test)\n",
    "recall = recall_score(labels_test,pred)\n",
    "precision = precision_score(labels_test,pred)\n",
    "\n",
    "print \"\\nPrecision (POIs):\", precision\n",
    "print \"Recall (POIs)\", recall"
   ]
  },
  {
   "cell_type": "markdown",
   "metadata": {},
   "source": [
    "Recall means within all the POIs, how many percent of them are identified by the model. Precision means among all the predicted POIs, how much percent of them are correct predictions. Since we want to know how many POIs we predict from the whole population, I'm using recall score to select the model.\n",
    "I'm going to choose AdaBoost model since it has the highest recall score and precision score. Random Forest model is the worst one within these four, it is also the lowest one. We might use Naive Bayes model as an alternative."
   ]
  },
  {
   "cell_type": "code",
   "execution_count": null,
   "metadata": {
    "collapsed": true
   },
   "outputs": [],
   "source": []
  }
 ],
 "metadata": {
  "anaconda-cloud": {},
  "kernelspec": {
   "display_name": "Python [conda root]",
   "language": "python",
   "name": "conda-root-py"
  },
  "language_info": {
   "codemirror_mode": {
    "name": "ipython",
    "version": 2
   },
   "file_extension": ".py",
   "mimetype": "text/x-python",
   "name": "python",
   "nbconvert_exporter": "python",
   "pygments_lexer": "ipython2",
   "version": "2.7.12"
  }
 },
 "nbformat": 4,
 "nbformat_minor": 2
}
